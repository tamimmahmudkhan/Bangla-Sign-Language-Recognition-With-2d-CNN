{
  "cells": [
    {
      "cell_type": "markdown",
      "metadata": {
        "id": "view-in-github",
        "colab_type": "text"
      },
      "source": [
        "<a href=\"https://colab.research.google.com/github/tamimmahmudkhan/Bangla-Sign-Language-Recognition-With-2d-CNN/blob/main/BanglaSignLanguageCustomCNN_Copy1.ipynb\" target=\"_parent\"><img src=\"https://colab.research.google.com/assets/colab-badge.svg\" alt=\"Open In Colab\"/></a>"
      ]
    },
    {
      "cell_type": "code",
      "execution_count": null,
      "id": "0139c327",
      "metadata": {
        "id": "0139c327"
      },
      "outputs": [],
      "source": [
        "from tensorflow.compat.v1 import ConfigProto\n",
        "from tensorflow.compat.v1 import InteractiveSession\n",
        "\n",
        "config = ConfigProto()\n",
        "config.gpu_options.per_process_gpu_memory_fraction = 0.5\n",
        "config.gpu_options.allow_growth = True\n",
        "session = InteractiveSession(config=config)"
      ]
    },
    {
      "cell_type": "code",
      "execution_count": null,
      "id": "25096651",
      "metadata": {
        "id": "25096651"
      },
      "outputs": [],
      "source": [
        "from tensorflow.keras.applications.imagenet_utils import preprocess_input, decode_predictions\n",
        "from tensorflow.keras.models import load_model\n",
        "from tensorflow.keras.preprocessing import image"
      ]
    },
    {
      "cell_type": "code",
      "execution_count": null,
      "id": "00861911",
      "metadata": {
        "id": "00861911"
      },
      "outputs": [],
      "source": [
        "from tensorflow.keras.layers import Input, Lambda, Dense, Flatten,Conv2D\n",
        "from tensorflow.keras.models import Model\n",
        "from tensorflow.keras.applications.vgg16 import VGG16\n",
        "from tensorflow.keras.applications.vgg16 import preprocess_input\n",
        "from tensorflow.keras.preprocessing import image\n",
        "from tensorflow.keras.preprocessing.image import ImageDataGenerator,load_img\n",
        "from tensorflow.keras.models import Sequential\n",
        "import numpy as np\n",
        "from glob import glob\n",
        "import matplotlib.pyplot as plt"
      ]
    },
    {
      "cell_type": "code",
      "execution_count": null,
      "id": "d4b0fc44",
      "metadata": {
        "id": "d4b0fc44"
      },
      "outputs": [],
      "source": [
        "IMAGE_SIZE = [224, 224]\n",
        "\n",
        "train_path = 'C:/Users/TS/Downloads/BanglaSignLanguage/Train'\n",
        "valid_path = 'C:/Users/TS/Downloads/BanglaSignLanguage/Test'"
      ]
    },
    {
      "cell_type": "code",
      "execution_count": null,
      "id": "c381379e",
      "metadata": {
        "id": "c381379e"
      },
      "outputs": [],
      "source": [
        "# useful for getting number of output classes\n",
        "folders = glob('C:/Users/TS/Downloads/BanglaSignLanguage/Train/*')"
      ]
    },
    {
      "cell_type": "code",
      "execution_count": null,
      "id": "a1c4bd7e",
      "metadata": {
        "id": "a1c4bd7e",
        "outputId": "276b1362-47d4-4638-f63f-2dacd8c65aff"
      },
      "outputs": [
        {
          "data": {
            "text/plain": [
              "['C:/Users/TS/Downloads/BanglaSignLanguage/Train\\\\ca',\n",
              " 'C:/Users/TS/Downloads/BanglaSignLanguage/Train\\\\cha',\n",
              " 'C:/Users/TS/Downloads/BanglaSignLanguage/Train\\\\ga',\n",
              " 'C:/Users/TS/Downloads/BanglaSignLanguage/Train\\\\gha',\n",
              " 'C:/Users/TS/Downloads/BanglaSignLanguage/Train\\\\ja',\n",
              " 'C:/Users/TS/Downloads/BanglaSignLanguage/Train\\\\jha',\n",
              " 'C:/Users/TS/Downloads/BanglaSignLanguage/Train\\\\ka',\n",
              " 'C:/Users/TS/Downloads/BanglaSignLanguage/Train\\\\kha',\n",
              " 'C:/Users/TS/Downloads/BanglaSignLanguage/Train\\\\neo',\n",
              " 'C:/Users/TS/Downloads/BanglaSignLanguage/Train\\\\umo']"
            ]
          },
          "execution_count": 71,
          "metadata": {},
          "output_type": "execute_result"
        }
      ],
      "source": [
        "folders"
      ]
    },
    {
      "cell_type": "code",
      "execution_count": null,
      "id": "49558201",
      "metadata": {
        "id": "49558201"
      },
      "outputs": [],
      "source": [
        "from tensorflow.keras.layers import MaxPooling2D\n",
        "from tensorflow.keras.layers import Conv2D\n",
        "import tensorflow as tf"
      ]
    },
    {
      "cell_type": "code",
      "execution_count": null,
      "id": "4fe52700",
      "metadata": {
        "id": "4fe52700",
        "outputId": "9cee3b8e-5b58-4e3e-b2df-580508c32f6d"
      },
      "outputs": [
        {
          "name": "stdout",
          "output_type": "stream",
          "text": [
            "Model: \"sequential_8\"\n",
            "_________________________________________________________________\n",
            " Layer (type)                Output Shape              Param #   \n",
            "=================================================================\n",
            " conv2d_18 (Conv2D)          (None, 224, 224, 16)      208       \n",
            "                                                                 \n",
            " max_pooling2d_18 (MaxPoolin  (None, 112, 112, 16)     0         \n",
            " g2D)                                                            \n",
            "                                                                 \n",
            " conv2d_19 (Conv2D)          (None, 112, 112, 32)      2080      \n",
            "                                                                 \n",
            " max_pooling2d_19 (MaxPoolin  (None, 56, 56, 32)       0         \n",
            " g2D)                                                            \n",
            "                                                                 \n",
            " conv2d_20 (Conv2D)          (None, 56, 56, 64)        8256      \n",
            "                                                                 \n",
            " max_pooling2d_20 (MaxPoolin  (None, 28, 28, 64)       0         \n",
            " g2D)                                                            \n",
            "                                                                 \n",
            " flatten_9 (Flatten)         (None, 50176)             0         \n",
            "                                                                 \n",
            " dense_17 (Dense)            (None, 500)               25088500  \n",
            "                                                                 \n",
            " dense_18 (Dense)            (None, 10)                5010      \n",
            "                                                                 \n",
            "=================================================================\n",
            "Total params: 25,104,054\n",
            "Trainable params: 25,104,054\n",
            "Non-trainable params: 0\n",
            "_________________________________________________________________\n"
          ]
        }
      ],
      "source": [
        "### Create Model from scratch using CNN\n",
        "model=Sequential()\n",
        "model.add(Conv2D(filters=16,kernel_size=2,padding=\"same\",activation=\"relu\",input_shape=(224,224,3)))\n",
        "model.add(MaxPooling2D(pool_size=2))\n",
        "model.add(Conv2D(filters=32,kernel_size=2,padding=\"same\",activation =\"relu\"))\n",
        "model.add(MaxPooling2D(pool_size=2))\n",
        "model.add(Conv2D(filters=64,kernel_size=2,padding=\"same\",activation=\"relu\"))\n",
        "model.add(MaxPooling2D(pool_size=2))\n",
        "model.add(Flatten())\n",
        "model.add(Dense(500,activation=\"relu\"))\n",
        "model.add(Dense(10,activation=\"softmax\"))\n",
        "model.summary()\n",
        "\n"
      ]
    },
    {
      "cell_type": "code",
      "execution_count": null,
      "id": "b532a0b3",
      "metadata": {
        "id": "b532a0b3"
      },
      "outputs": [],
      "source": [
        "###\n",
        "# Part 2 - Building the CNN\n",
        "\n",
        "# Initialising the CNN\n",
        "##model = tf.keras.models.Sequential()\n",
        "\n",
        "# Step 1 - Convolution\n",
        "##model.add(tf.keras.layers.Conv2D(filters=32,padding=\"same\",kernel_size=3, activation='relu', input_shape=[224, 224, 3]))\n",
        "\n",
        "# Step 2 - Pooling\n",
        "##model.add(tf.keras.layers.MaxPool2D(pool_size=2, strides=2))\n",
        "\n",
        "# Adding a second convolutional layer\n",
        "##model.add(tf.keras.layers.Conv2D(filters=32,padding='same',kernel_size=3, activation='relu'))\n",
        "##model.add(tf.keras.layers.MaxPool2D(pool_size=2, strides=2))\n",
        "\n",
        "# Step 3 - Flattening\n",
        "##model.add(tf.keras.layers.Flatten())\n",
        "\n",
        "# Step 4 - Full Connection\n",
        "##model.add(tf.keras.layers.Dense(units=128, activation='relu'))\n",
        "\n",
        "# Step 5 - Output Layer\n",
        "##model.add(tf.keras.layers.Dense(units=10, activation='softmax'))"
      ]
    },
    {
      "cell_type": "code",
      "execution_count": null,
      "id": "40831e9c",
      "metadata": {
        "id": "40831e9c"
      },
      "outputs": [],
      "source": [
        "# tell the model what cost and optimization method to use\n",
        "model.compile(\n",
        "  loss='categorical_crossentropy',\n",
        "  #loss='binary_crossentropy',\n",
        "  optimizer='adam',\n",
        "  metrics=['accuracy']\n",
        ")"
      ]
    },
    {
      "cell_type": "code",
      "execution_count": null,
      "id": "c2192bf7",
      "metadata": {
        "id": "c2192bf7"
      },
      "outputs": [],
      "source": [
        "# Use the Image Data Generator to import the images from the dataset\n",
        "from tensorflow.keras.preprocessing.image import ImageDataGenerator\n",
        "\n",
        "train_datagen = ImageDataGenerator(rescale = 1./255,\n",
        "                                   shear_range = 0.2,\n",
        "                                   zoom_range = 0.2,\n",
        "                                   horizontal_flip = True)\n",
        "\n",
        "test_datagen = ImageDataGenerator(rescale = 1./255)"
      ]
    },
    {
      "cell_type": "code",
      "execution_count": null,
      "id": "5cdf6209",
      "metadata": {
        "id": "5cdf6209",
        "outputId": "94c4d04a-f4e9-41ba-f90e-f8e60c8d92c4"
      },
      "outputs": [
        {
          "name": "stdout",
          "output_type": "stream",
          "text": [
            "Found 1213 images belonging to 10 classes.\n"
          ]
        }
      ],
      "source": [
        "# Make sure you provide the same target size as initialied for the image size\n",
        "training_set = train_datagen.flow_from_directory('C:/Users/TS/Downloads/BanglaSignLanguage/Train/',\n",
        "                                                 target_size = (224, 224),\n",
        "                                                 batch_size = 16,\n",
        "                                                 class_mode = 'categorical')"
      ]
    },
    {
      "cell_type": "code",
      "execution_count": null,
      "id": "bd1d89fc",
      "metadata": {
        "id": "bd1d89fc",
        "outputId": "260fe8ed-c644-4461-cbb5-75b4f1258801"
      },
      "outputs": [
        {
          "name": "stdout",
          "output_type": "stream",
          "text": [
            "Found 200 images belonging to 10 classes.\n"
          ]
        }
      ],
      "source": [
        "test_set = test_datagen.flow_from_directory('C:/Users/TS/Downloads/BanglaSignLanguage/Test/',\n",
        "                                            target_size = (224, 224),\n",
        "                                            batch_size = 16,\n",
        "                                            class_mode = 'categorical')"
      ]
    },
    {
      "cell_type": "code",
      "execution_count": null,
      "id": "b40bca84",
      "metadata": {
        "id": "b40bca84",
        "outputId": "7f227fd3-6138-4c1c-cc1f-3eaf72a1ce1e"
      },
      "outputs": [
        {
          "name": "stdout",
          "output_type": "stream",
          "text": [
            "Epoch 1/20\n"
          ]
        },
        {
          "name": "stderr",
          "output_type": "stream",
          "text": [
            "C:\\Users\\TS\\AppData\\Local\\Temp/ipykernel_11336/2737970824.py:3: UserWarning: `Model.fit_generator` is deprecated and will be removed in a future version. Please use `Model.fit`, which supports generators.\n",
            "  r = model.fit_generator(\n"
          ]
        },
        {
          "name": "stdout",
          "output_type": "stream",
          "text": [
            "76/76 [==============================] - 56s 735ms/step - loss: 2.3958 - accuracy: 0.1657 - val_loss: 2.1841 - val_accuracy: 0.1900\n",
            "Epoch 2/20\n",
            "76/76 [==============================] - 53s 703ms/step - loss: 1.9404 - accuracy: 0.3223 - val_loss: 2.0594 - val_accuracy: 0.2350\n",
            "Epoch 3/20\n",
            "76/76 [==============================] - 50s 654ms/step - loss: 1.5491 - accuracy: 0.4905 - val_loss: 1.9295 - val_accuracy: 0.3350\n",
            "Epoch 4/20\n",
            "76/76 [==============================] - 48s 629ms/step - loss: 1.2649 - accuracy: 0.5763 - val_loss: 1.8773 - val_accuracy: 0.3650\n",
            "Epoch 5/20\n",
            "76/76 [==============================] - 50s 661ms/step - loss: 1.0188 - accuracy: 0.6752 - val_loss: 1.8961 - val_accuracy: 0.3900\n",
            "Epoch 6/20\n",
            "76/76 [==============================] - 49s 635ms/step - loss: 0.8693 - accuracy: 0.7139 - val_loss: 1.7735 - val_accuracy: 0.4550\n",
            "Epoch 7/20\n",
            "76/76 [==============================] - 48s 627ms/step - loss: 0.6978 - accuracy: 0.7650 - val_loss: 2.1024 - val_accuracy: 0.3900\n",
            "Epoch 8/20\n",
            "76/76 [==============================] - 48s 631ms/step - loss: 0.6361 - accuracy: 0.7972 - val_loss: 1.8726 - val_accuracy: 0.4100\n",
            "Epoch 9/20\n",
            "76/76 [==============================] - 49s 646ms/step - loss: 0.5381 - accuracy: 0.8277 - val_loss: 1.9638 - val_accuracy: 0.4350\n",
            "Epoch 10/20\n",
            "76/76 [==============================] - 50s 652ms/step - loss: 0.4615 - accuracy: 0.8607 - val_loss: 2.0338 - val_accuracy: 0.4450\n",
            "Epoch 11/20\n",
            "76/76 [==============================] - 48s 631ms/step - loss: 0.4231 - accuracy: 0.8706 - val_loss: 2.0501 - val_accuracy: 0.4950\n",
            "Epoch 12/20\n",
            "76/76 [==============================] - 49s 647ms/step - loss: 0.3072 - accuracy: 0.8986 - val_loss: 2.2226 - val_accuracy: 0.4650\n",
            "Epoch 13/20\n",
            "76/76 [==============================] - 48s 631ms/step - loss: 0.3231 - accuracy: 0.9011 - val_loss: 2.4535 - val_accuracy: 0.4600\n",
            "Epoch 14/20\n",
            "76/76 [==============================] - 48s 631ms/step - loss: 0.2983 - accuracy: 0.9077 - val_loss: 2.3822 - val_accuracy: 0.4850\n",
            "Epoch 15/20\n",
            "76/76 [==============================] - 48s 634ms/step - loss: 0.2837 - accuracy: 0.9126 - val_loss: 2.7035 - val_accuracy: 0.4450\n",
            "Epoch 16/20\n",
            "76/76 [==============================] - 48s 634ms/step - loss: 0.2206 - accuracy: 0.9349 - val_loss: 2.5022 - val_accuracy: 0.4800\n",
            "Epoch 17/20\n",
            "76/76 [==============================] - 48s 629ms/step - loss: 0.1915 - accuracy: 0.9431 - val_loss: 2.4305 - val_accuracy: 0.4850\n",
            "Epoch 18/20\n",
            "76/76 [==============================] - 1202s 16s/step - loss: 0.1863 - accuracy: 0.9514 - val_loss: 2.4572 - val_accuracy: 0.4650\n",
            "Epoch 19/20\n",
            "76/76 [==============================] - 50s 649ms/step - loss: 0.1796 - accuracy: 0.9415 - val_loss: 2.8624 - val_accuracy: 0.4700\n",
            "Epoch 20/20\n",
            "76/76 [==============================] - 48s 627ms/step - loss: 0.1707 - accuracy: 0.9505 - val_loss: 2.7396 - val_accuracy: 0.4350\n"
          ]
        }
      ],
      "source": [
        "# Part 3 - Training the CNN\n",
        "\n",
        "r = model.fit_generator(\n",
        "  training_set,\n",
        "  validation_data=test_set,\n",
        "  epochs=20,\n",
        "  steps_per_epoch=len(training_set),\n",
        "  validation_steps=len(test_set)\n",
        ")\n"
      ]
    },
    {
      "cell_type": "code",
      "execution_count": null,
      "id": "e3c43a09",
      "metadata": {
        "id": "e3c43a09"
      },
      "outputs": [],
      "source": [
        "#saving model\n",
        "from tensorflow.keras.models import load_model\n",
        "model.save('model_customCnn_BanglaSignLanguage_2CustomCNN_5epoch_datasetv2_.h5')"
      ]
    },
    {
      "cell_type": "code",
      "execution_count": null,
      "id": "c1788004",
      "metadata": {
        "id": "c1788004"
      },
      "outputs": [],
      "source": [
        "y_pred=model.predict(test_set)"
      ]
    },
    {
      "cell_type": "code",
      "execution_count": null,
      "id": "85c05d69",
      "metadata": {
        "id": "85c05d69",
        "outputId": "3b4d9d84-cf82-40cf-df3d-37c641a7ddfa"
      },
      "outputs": [
        {
          "data": {
            "text/plain": [
              "array([[0.1914137 , 0.05299685, 0.03484558, ..., 0.12525544, 0.10657158,\n",
              "        0.12538928],\n",
              "       [0.06207502, 0.00469071, 0.01811403, ..., 0.09646739, 0.10319152,\n",
              "        0.01554174],\n",
              "       [0.02947991, 0.01468385, 0.07802661, ..., 0.11208502, 0.45525545,\n",
              "        0.04229573],\n",
              "       ...,\n",
              "       [0.08473483, 0.06384698, 0.04247794, ..., 0.17020042, 0.12629275,\n",
              "        0.06939717],\n",
              "       [0.10970195, 0.07039234, 0.0145285 , ..., 0.10512408, 0.05163644,\n",
              "        0.01295553],\n",
              "       [0.08332882, 0.04741637, 0.02377321, ..., 0.17582285, 0.13348359,\n",
              "        0.05910842]], dtype=float32)"
            ]
          },
          "execution_count": 61,
          "metadata": {},
          "output_type": "execute_result"
        }
      ],
      "source": [
        "y_pred"
      ]
    },
    {
      "cell_type": "code",
      "execution_count": null,
      "id": "4a4e08e1",
      "metadata": {
        "id": "4a4e08e1"
      },
      "outputs": [],
      "source": [
        "import numpy as np\n",
        "y_pred=np.argmax(y_pred,axis=1)"
      ]
    },
    {
      "cell_type": "code",
      "execution_count": null,
      "id": "d693be28",
      "metadata": {
        "id": "d693be28",
        "outputId": "12bf6c78-e110-491c-e7bb-3299b1a4284a"
      },
      "outputs": [
        {
          "data": {
            "text/plain": [
              "array([0, 5, 8, 4, 0, 5, 8, 7, 7, 9, 6, 1, 7, 7, 6, 6, 5, 7, 7, 6, 6, 8,\n",
              "       3, 8, 7, 7, 7, 5, 8, 0, 4, 7, 0, 7, 5, 0, 7, 4, 9, 7, 5, 7, 4, 0,\n",
              "       1, 7, 2, 5, 4, 8, 7, 7, 2, 7, 8, 6, 3, 8, 7, 4, 7, 7, 2, 4, 4, 7,\n",
              "       2, 1, 7, 5, 7, 7, 6, 0, 6, 7, 1, 5, 7, 7, 8, 5, 7, 1, 4, 1, 2, 3,\n",
              "       7, 3, 7, 0, 7, 3, 6, 5, 7, 3, 8, 4, 3, 6, 3, 5, 7, 4, 7, 4, 4, 8,\n",
              "       4, 7, 6, 7, 4, 5, 4, 0, 7, 7, 7, 7, 7, 5, 7, 2, 6, 5, 7, 7, 6, 7,\n",
              "       6, 7, 0, 7, 6, 4, 6, 6, 5, 7, 6, 7, 7, 1, 0, 4, 1, 5, 7, 3, 7, 7,\n",
              "       7, 6, 3, 7, 7, 6, 2, 2, 7, 1, 5, 9, 7, 7, 7, 1, 7, 7, 1, 5, 3, 0,\n",
              "       6, 7, 7, 7, 0, 7, 7, 6, 7, 7, 4, 1, 3, 7, 4, 0, 2, 6, 7, 8, 5, 7,\n",
              "       5, 7], dtype=int64)"
            ]
          },
          "execution_count": 63,
          "metadata": {},
          "output_type": "execute_result"
        }
      ],
      "source": [
        "y_pred"
      ]
    },
    {
      "cell_type": "code",
      "execution_count": null,
      "id": "fc3d8b5f",
      "metadata": {
        "id": "fc3d8b5f",
        "outputId": "750fecd4-0a73-4bb9-c73f-afa571f97fc7"
      },
      "outputs": [
        {
          "data": {
            "image/png": "[encoded data removed]",
            "text/plain": [
              "<Figure size 432x288 with 1 Axes>"
            ]
          },
          "metadata": {
            "needs_background": "light"
          },
          "output_type": "display_data"
        },
        {
          "data": {
            "text/plain": [
              "<Figure size 432x288 with 0 Axes>"
            ]
          },
          "metadata": {},
          "output_type": "display_data"
        }
      ],
      "source": [
        "# loss\n",
        "plt.plot(r.history['loss'], label='train loss')\n",
        "plt.plot(r.history['val_loss'], label='val loss')\n",
        "plt.legend()\n",
        "plt.show()\n",
        "plt.savefig('LossVal_loss')"
      ]
    },
    {
      "cell_type": "code",
      "execution_count": null,
      "id": "f00a6139",
      "metadata": {
        "id": "f00a6139",
        "outputId": "eaee6f35-f5ea-4101-f919-0e969cd05090"
      },
      "outputs": [
        {
          "data": {
            "image/png": "[encoded data removed]",
            "text/plain": [
              "<Figure size 432x288 with 1 Axes>"
            ]
          },
          "metadata": {
            "needs_background": "light"
          },
          "output_type": "display_data"
        },
        {
          "data": {
            "text/plain": [
              "<Figure size 432x288 with 0 Axes>"
            ]
          },
          "metadata": {},
          "output_type": "display_data"
        }
      ],
      "source": [
        "# accuracies\n",
        "plt.plot(r.history['accuracy'], label='train acc')\n",
        "plt.plot(r.history['val_accuracy'], label='val acc')\n",
        "plt.legend()\n",
        "plt.show()\n",
        "plt.savefig('AccVal_acc')"
      ]
    },
    {
      "cell_type": "code",
      "execution_count": null,
      "id": "f05a3f50",
      "metadata": {
        "id": "f05a3f50"
      },
      "outputs": [],
      "source": [
        "##import tensorflow as tf\n",
        "\n",
        "##from tensorflow.keras.models import load_model\n",
        "##from tensorflow.keras.preprocessing import image\n",
        "\n",
        "##model.save('model_vgg16_cell_v2.h5')"
      ]
    },
    {
      "cell_type": "code",
      "execution_count": null,
      "id": "64cfe793",
      "metadata": {
        "id": "64cfe793"
      },
      "outputs": [],
      "source": []
    }
  ],
  "metadata": {
    "kernelspec": {
      "display_name": "Python 3 (ipykernel)",
      "language": "python",
      "name": "python3"
    },
    "language_info": {
      "codemirror_mode": {
        "name": "ipython",
        "version": 3
      },
      "file_extension": ".py",
      "mimetype": "text/x-python",
      "name": "python",
      "nbconvert_exporter": "python",
      "pygments_lexer": "ipython3",
      "version": "3.9.7"
    },
    "colab": {
      "provenance": [],
      "include_colab_link": true
    }
  },
  "nbformat": 4,
  "nbformat_minor": 5
}